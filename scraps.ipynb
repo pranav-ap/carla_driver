{
 "cells": [
  {
   "metadata": {
    "ExecuteTime": {
     "end_time": "2024-10-08T23:09:37.270044Z",
     "start_time": "2024-10-08T23:09:07.098919Z"
    }
   },
   "cell_type": "code",
   "source": [
    "from transformers import AutoImageProcessor, SuperPointForKeypointDetection\n",
    "\n",
    "processor = AutoImageProcessor.from_pretrained(\"magic-leap-community/superpoint\")\n",
    "model = SuperPointForKeypointDetection.from_pretrained(\"magic-leap-community/superpoint\")"
   ],
   "id": "initial_id",
   "outputs": [],
   "execution_count": 1
  },
  {
   "metadata": {
    "ExecuteTime": {
     "end_time": "2024-10-09T00:00:20.503612Z",
     "start_time": "2024-10-09T00:00:18.233160Z"
    }
   },
   "cell_type": "code",
   "source": [
    "from PIL import Image\n",
    "import requests\n",
    "\n",
    "url = \"http://images.cocodataset.org/val2017/000000039769.jpg\"\n",
    "image1 = Image.open(requests.get(url, stream=True).raw)\n",
    "\n",
    "url = \"http://images.cocodataset.org/val2017/000000039769.jpg\"\n",
    "image2 = Image.open(requests.get(url, stream=True).raw)\n",
    "\n",
    "images = [image1, image2]"
   ],
   "id": "92f1717a3e43f74a",
   "outputs": [],
   "execution_count": 34
  },
  {
   "metadata": {
    "ExecuteTime": {
     "end_time": "2024-10-09T00:00:23.638016Z",
     "start_time": "2024-10-09T00:00:23.506121Z"
    }
   },
   "cell_type": "code",
   "source": "inputs = processor(images, return_tensors=\"pt\")",
   "id": "a4cc984d6c4695aa",
   "outputs": [],
   "execution_count": 35
  },
  {
   "metadata": {
    "ExecuteTime": {
     "end_time": "2024-10-09T00:00:33.764683Z",
     "start_time": "2024-10-09T00:00:28.233222Z"
    }
   },
   "cell_type": "code",
   "source": "outputs = model(**inputs)",
   "id": "6e67c859c4c80f98",
   "outputs": [],
   "execution_count": 36
  },
  {
   "metadata": {
    "ExecuteTime": {
     "end_time": "2024-10-09T00:04:47.773529Z",
     "start_time": "2024-10-09T00:04:47.741871Z"
    }
   },
   "cell_type": "code",
   "source": [
    "import torch\n",
    "import cv2\n",
    "\n",
    "\n",
    "def extract_keypoints(outputs, index):\n",
    "    image_mask = outputs.mask[index]\n",
    "    indices = torch.nonzero(image_mask).squeeze()\n",
    "\n",
    "    # Ensure indices are not empty\n",
    "    if indices.numel() == 0:\n",
    "        return [], None, None  # Handle case with no keypoints\n",
    "\n",
    "    keypoints = outputs.keypoints[index][indices]\n",
    "    descriptors = outputs.descriptors[index][indices]  \n",
    "    scores = outputs.scores[index][indices]\n",
    "\n",
    "    # Convert keypoints to a format compatible with OpenCV\n",
    "    keypoints_cv = []\n",
    "    for i, keypoint in enumerate(keypoints):\n",
    "        kp = cv2.KeyPoint(x=keypoint[0].item(), y=keypoint[1].item(), size=1, response=scores[i].item())\n",
    "        keypoints_cv.append(kp)\n",
    "\n",
    "    descriptors = descriptors.detach().cpu().numpy()\n",
    "    print(type(descriptors))\n",
    "    print(descriptors.dtype)\n",
    "    print(descriptors.shape)\n",
    "\n",
    "    return keypoints_cv, descriptors, scores"
   ],
   "id": "cbdb4957100c884d",
   "outputs": [],
   "execution_count": 46
  },
  {
   "metadata": {
    "ExecuteTime": {
     "end_time": "2024-10-09T00:04:48.400355Z",
     "start_time": "2024-10-09T00:04:48.297709Z"
    }
   },
   "cell_type": "code",
   "source": [
    "x = extract_keypoints(outputs, 0)\n",
    "y = extract_keypoints(outputs, 1)"
   ],
   "id": "baabc711805377ce",
   "outputs": [
    {
     "name": "stdout",
     "output_type": "stream",
     "text": [
      "<class 'numpy.ndarray'>\n",
      "float32\n",
      "(568, 256)\n",
      "<class 'numpy.ndarray'>\n",
      "float32\n",
      "(568, 256)\n"
     ]
    }
   ],
   "execution_count": 47
  },
  {
   "metadata": {
    "ExecuteTime": {
     "end_time": "2024-10-09T00:04:50.574247Z",
     "start_time": "2024-10-09T00:04:50.549270Z"
    }
   },
   "cell_type": "code",
   "source": [
    "keypoints_cv, descriptors, scores = x\n",
    "keypoints_cv2, descriptors2, scores2 = y"
   ],
   "id": "b89b3312a021bf94",
   "outputs": [],
   "execution_count": 48
  },
  {
   "metadata": {
    "ExecuteTime": {
     "end_time": "2024-10-09T00:05:01.254201Z",
     "start_time": "2024-10-09T00:05:01.233085Z"
    }
   },
   "cell_type": "code",
   "source": [
    "FLANN_INDEX_LSH = 6\n",
    "index_params = dict(\n",
    "    algorithm=FLANN_INDEX_LSH,\n",
    "    table_number=6,\n",
    "    key_size=12,\n",
    "    multi_probe_level=1\n",
    ")\n",
    "search_params = dict(checks=50)\n",
    "\n",
    "flann = cv2.FlannBasedMatcher(\n",
    "    indexParams=index_params,\n",
    "    searchParams=search_params\n",
    ")"
   ],
   "id": "28f24fa94efb552e",
   "outputs": [],
   "execution_count": 49
  },
  {
   "metadata": {
    "ExecuteTime": {
     "end_time": "2024-10-09T00:13:07.391414Z",
     "start_time": "2024-10-09T00:13:06.374523Z"
    }
   },
   "cell_type": "code",
   "source": "all_matches = flann.knnMatch(descriptors, descriptors2, k=2)",
   "id": "3fdeeafedcd2530f",
   "outputs": [],
   "execution_count": 54
  },
  {
   "metadata": {
    "ExecuteTime": {
     "end_time": "2024-10-09T00:12:57.983383Z",
     "start_time": "2024-10-09T00:12:57.963035Z"
    }
   },
   "cell_type": "code",
   "source": [
    "descriptors = descriptors.astype('uint8')\n",
    "type(descriptors)\n",
    "\n",
    "descriptors2 = descriptors2.astype('uint8')\n",
    "type(descriptors2)"
   ],
   "id": "fdfc9eadf2e62b98",
   "outputs": [
    {
     "data": {
      "text/plain": [
       "numpy.ndarray"
      ]
     },
     "execution_count": 53,
     "metadata": {},
     "output_type": "execute_result"
    }
   ],
   "execution_count": 53
  },
  {
   "metadata": {
    "ExecuteTime": {
     "end_time": "2024-10-09T00:14:28.722423Z",
     "start_time": "2024-10-09T00:14:28.713425Z"
    }
   },
   "cell_type": "code",
   "source": "import numpy as np",
   "id": "fa788d62fc4d5647",
   "outputs": [],
   "execution_count": 55
  },
  {
   "metadata": {
    "ExecuteTime": {
     "end_time": "2024-10-09T00:14:29.533794Z",
     "start_time": "2024-10-09T00:14:29.500634Z"
    }
   },
   "cell_type": "code",
   "source": [
    "# Apply ratio test to filter matches\n",
    "matches = []\n",
    "\n",
    "for x in all_matches:\n",
    "    if len(x) != 2:\n",
    "        continue\n",
    "\n",
    "    m, n = x\n",
    "    if m.distance < 0.7 * n.distance:\n",
    "        matches.append(m)\n",
    "\n",
    "# Sort matches based on distance\n",
    "matches = sorted(matches, key=lambda x: x.distance)\n",
    "\n",
    "# Extract matched points from both images\n",
    "q1 = np.float32([keypoints_cv[m.queryIdx].pt for m in matches])\n",
    "q2 = np.float32([keypoints_cv2[m.trainIdx].pt for m in matches])\n"
   ],
   "id": "c2e1a810a6cbae9a",
   "outputs": [],
   "execution_count": 56
  },
  {
   "metadata": {},
   "cell_type": "code",
   "outputs": [],
   "execution_count": null,
   "source": "",
   "id": "a401425c4a81f3db"
  }
 ],
 "metadata": {
  "kernelspec": {
   "display_name": "Python 3",
   "language": "python",
   "name": "python3"
  },
  "language_info": {
   "codemirror_mode": {
    "name": "ipython",
    "version": 2
   },
   "file_extension": ".py",
   "mimetype": "text/x-python",
   "name": "python",
   "nbconvert_exporter": "python",
   "pygments_lexer": "ipython2",
   "version": "2.7.6"
  }
 },
 "nbformat": 4,
 "nbformat_minor": 5
}
